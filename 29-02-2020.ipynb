{
 "cells": [
  {
   "cell_type": "code",
   "execution_count": 19,
   "metadata": {},
   "outputs": [
    {
     "name": "stdout",
     "output_type": "stream",
     "text": [
      "enter the number566\n"
     ]
    },
    {
     "data": {
      "text/plain": [
       "['5', '6', '6']"
      ]
     },
     "execution_count": 19,
     "metadata": {},
     "output_type": "execute_result"
    }
   ],
   "source": [
    "# Read the elements of a list from Keyboard\n",
    "Li = []\n",
    "list(input(\"enter the number\"))"
   ]
  },
  {
   "cell_type": "code",
   "execution_count": 2,
   "metadata": {},
   "outputs": [
    {
     "data": {
      "text/plain": [
       "['r', 'a', 'k', 'e', 's', 'h']"
      ]
     },
     "execution_count": 2,
     "metadata": {},
     "output_type": "execute_result"
    }
   ],
   "source": [
    "list(\"rakesh\")"
   ]
  },
  {
   "cell_type": "code",
   "execution_count": 26,
   "metadata": {},
   "outputs": [],
   "source": [
    "# Li.append(56)\n",
    "# print(Li)\n"
   ]
  },
  {
   "cell_type": "code",
   "execution_count": 10,
   "metadata": {},
   "outputs": [
    {
     "name": "stdout",
     "output_type": "stream",
     "text": [
      "Help on built-in function append:\n",
      "\n",
      "append(object, /) method of builtins.list instance\n",
      "    Append object to the end of the list.\n",
      "\n"
     ]
    }
   ],
   "source": [
    "help(Li.append)"
   ]
  },
  {
   "cell_type": "code",
   "execution_count": 25,
   "metadata": {},
   "outputs": [
    {
     "name": "stdout",
     "output_type": "stream",
     "text": [
      "10\n",
      "10\n",
      "21\n",
      "56\n",
      "['10', '10', '21', '56']\n"
     ]
    }
   ],
   "source": [
    "#Read 4 elements of a list from keyboard\n",
    "Li=[]\n",
    "for i in range(0,4):\n",
    "    Li.append(input())\n",
    "print(Li)"
   ]
  },
  {
   "cell_type": "code",
   "execution_count": 41,
   "metadata": {},
   "outputs": [
    {
     "name": "stdout",
     "output_type": "stream",
     "text": [
      "[10, 10, 21, 56]\n"
     ]
    }
   ],
   "source": [
    "for i in range(len(Li)):\n",
    "    Li[i]=int(Li[i])\n",
    "print(Li)\n",
    "\n",
    "    "
   ]
  },
  {
   "cell_type": "code",
   "execution_count": 2,
   "metadata": {},
   "outputs": [
    {
     "name": "stdout",
     "output_type": "stream",
     "text": [
      "[10, 10, 21, 56]\n"
     ]
    }
   ],
   "source": [
    "Li=['10', '10', '21', '56']\n",
    "L=[]\n",
    "for i in Li:\n",
    "    L.append(int(i))\n",
    "print(L)\n",
    "    "
   ]
  },
  {
   "cell_type": "code",
   "execution_count": 2,
   "metadata": {},
   "outputs": [
    {
     "name": "stdout",
     "output_type": "stream",
     "text": [
      "23 12 45 56\n",
      "[23, 12, 45, 56]\n"
     ]
    }
   ],
   "source": [
    "# input : 23 45 67 89\n",
    "# output : [23,45,67,89]\n",
    "n = input()\n",
    "l=n.split()\n",
    "for i in range(len(l)):\n",
    "    l[i]=int(l[i])\n",
    "print(l)"
   ]
  },
  {
   "cell_type": "code",
   "execution_count": 3,
   "metadata": {},
   "outputs": [
    {
     "name": "stdout",
     "output_type": "stream",
     "text": [
      "12 45 56 78\n",
      "[12, 45, 56, 78]\n"
     ]
    }
   ],
   "source": [
    "l=input().split()\n",
    "for i in range(len(l)):\n",
    "    l[i]=int(l[i])\n",
    "print(l)"
   ]
  },
  {
   "cell_type": "code",
   "execution_count": 5,
   "metadata": {},
   "outputs": [
    {
     "name": "stdout",
     "output_type": "stream",
     "text": [
      "12 45 47 89\n"
     ]
    },
    {
     "data": {
      "text/plain": [
       "[12, 45, 47, 89]"
      ]
     },
     "execution_count": 5,
     "metadata": {},
     "output_type": "execute_result"
    }
   ],
   "source": [
    "l2 = [int(i) for i in input().split()]\n",
    "l2"
   ]
  },
  {
   "cell_type": "code",
   "execution_count": 6,
   "metadata": {},
   "outputs": [
    {
     "name": "stdout",
     "output_type": "stream",
     "text": [
      "1 2 5 6\n"
     ]
    },
    {
     "data": {
      "text/plain": [
       "[1, 4, 25, 36]"
      ]
     },
     "execution_count": 6,
     "metadata": {},
     "output_type": "execute_result"
    }
   ],
   "source": [
    "l2=[int(i)**2 for i in input().split()]\n",
    "l2"
   ]
  },
  {
   "cell_type": "code",
   "execution_count": 14,
   "metadata": {},
   "outputs": [
    {
     "name": "stdout",
     "output_type": "stream",
     "text": [
      "1 2 5 6\n"
     ]
    },
    {
     "data": {
      "text/plain": [
       "[1, 2, 5, 6]"
      ]
     },
     "execution_count": 14,
     "metadata": {},
     "output_type": "execute_result"
    }
   ],
   "source": [
    "l = list(map(int,input().split()))\n",
    "l"
   ]
  },
  {
   "cell_type": "code",
   "execution_count": 11,
   "metadata": {},
   "outputs": [
    {
     "name": "stdout",
     "output_type": "stream",
     "text": [
      "12 56 56 45\n",
      "41 85 41 56 \n",
      "41 52 63 74\n",
      "12 45 56 74\n"
     ]
    },
    {
     "data": {
      "text/plain": [
       "[[12, 56, 56, 45], [41, 85, 41, 56], [41, 52, 63, 74], [12, 45, 56, 74]]"
      ]
     },
     "execution_count": 11,
     "metadata": {},
     "output_type": "execute_result"
    }
   ],
   "source": [
    "# output : [[12,13,45,45],[90,100,98,97][58,35,35,34],[0,1,2,3]]\n",
    "marks=[]\n",
    "for i in range(4):\n",
    "    marks.append(list(map(int,input().split())))\n",
    "marks\n",
    "                 "
   ]
  },
  {
   "cell_type": "code",
   "execution_count": 15,
   "metadata": {},
   "outputs": [],
   "source": [
    "# output : [416,23,56,78,85]\n",
    "# input :\"416\"\n",
    "# \"23 45 56 45\"\n",
    "s=input()\n",
    "marks=[]\n",
    "for i in range(4):\n",
    "    marks.(list(map(int,input().split())))\n",
    "    "
   ]
  },
  {
   "cell_type": "code",
   "execution_count": null,
   "metadata": {},
   "outputs": [],
   "source": [
    "a=[2,3]\n",
    "b=[4,5]\n",
    "a.extend(b)\n",
    "a"
   ]
  },
  {
   "cell_type": "code",
   "execution_count": 4,
   "metadata": {},
   "outputs": [
    {
     "name": "stdout",
     "output_type": "stream",
     "text": [
      "416\n",
      "41 45 45 74\n",
      "216\n",
      "56 45 74 85\n",
      "415\n",
      "56 89 89 90 \n",
      "405\n",
      "41 52 63 85\n"
     ]
    },
    {
     "data": {
      "text/plain": [
       "[[416, 41, 45, 45, 74],\n",
       " [216, 56, 45, 74, 85],\n",
       " [415, 56, 89, 89, 90],\n",
       " [405, 41, 52, 63, 85]]"
      ]
     },
     "execution_count": 4,
     "metadata": {},
     "output_type": "execute_result"
    }
   ],
   "source": [
    "id_marks = []\n",
    "for i in range(4):\n",
    "    id_marks.append([int(input())])\n",
    "    id_marks[i].extend(list(map(int,input().split())))\n",
    "id_marks"
   ]
  },
  {
   "cell_type": "code",
   "execution_count": 12,
   "metadata": {},
   "outputs": [
    {
     "data": {
      "text/plain": [
       "{416: 205, 216: 260, 415: 324, 405: 241}"
      ]
     },
     "execution_count": 12,
     "metadata": {},
     "output_type": "execute_result"
    }
   ],
   "source": [
    "#input : id_marks\n",
    "# d = {std_id : sum of the marks}\n",
    "# d = {416:229,216:404,416:415,405:415}\n",
    "d={}\n",
    "for i in id_marks:\n",
    "    d[i[0]] = sum(i[1:])\n",
    "d\n",
    "    "
   ]
  },
  {
   "cell_type": "code",
   "execution_count": 17,
   "metadata": {},
   "outputs": [
    {
     "data": {
      "text/plain": [
       "{416: [205, 74, 74, 51.25],\n",
       " 216: [260, 85, 85, 65.0],\n",
       " 415: [324, 90, 90, 81.0],\n",
       " 405: [241, 85, 85, 60.25]}"
      ]
     },
     "execution_count": 17,
     "metadata": {},
     "output_type": "execute_result"
    }
   ],
   "source": [
    "d={}\n",
    "for i in id_marks:\n",
    "    d[i[0]] = [sum(i[1:]),max(i[1:]),max(i[1:]),sum(i[1:])/len(i[1:])]\n",
    "d\n"
   ]
  },
  {
   "cell_type": "code",
   "execution_count": null,
   "metadata": {},
   "outputs": [],
   "source": [
    "if __name__ == '__main__':\n",
    "    d={}\n",
    "    for _ in range(int(input())):\n",
    "        name = input()\n",
    "        score = float(input())\n",
    "        d[name]= score\n",
    "    value = sorted(d.items(),key=lambda x:x[1])\n",
    "    names=[]\n",
    "    for n,s in value:\n",
    "        if s==value[1][1]:\n",
    "            names.append(n)\n",
    "    for n in sorted(names):\n",
    "        print(n)"
   ]
  }
 ],
 "metadata": {
  "kernelspec": {
   "display_name": "Python 3",
   "language": "python",
   "name": "python3"
  },
  "language_info": {
   "codemirror_mode": {
    "name": "ipython",
    "version": 3
   },
   "file_extension": ".py",
   "mimetype": "text/x-python",
   "name": "python",
   "nbconvert_exporter": "python",
   "pygments_lexer": "ipython3",
   "version": "3.7.1"
  }
 },
 "nbformat": 4,
 "nbformat_minor": 2
}
