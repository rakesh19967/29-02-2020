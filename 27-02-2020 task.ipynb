{
 "cells": [
  {
   "cell_type": "markdown",
   "metadata": {},
   "source": [
    "# File management\n",
    "- create file\n",
    "- write data into file\n",
    "- read the data in the file\n",
    "- perform operations on the file\n",
    "\n"
   ]
  },
  {
   "cell_type": "code",
   "execution_count": 3,
   "metadata": {},
   "outputs": [
    {
     "data": {
      "text/plain": [
       "'File Data is Completed Successfully'"
      ]
     },
     "execution_count": 3,
     "metadata": {},
     "output_type": "execute_result"
    }
   ],
   "source": [
    "def createFile(filename):\n",
    "    f=open(filename,'w')\n",
    "    for i in range(10):\n",
    "        f.write(\"\\nline of data\")\n",
    "    return \"File Data is Completed Successfully\"\n",
    "createFile('Dsps.txt')"
   ]
  },
  {
   "cell_type": "code",
   "execution_count": 2,
   "metadata": {},
   "outputs": [
    {
     "data": {
      "text/plain": [
       "'C:\\\\Users\\\\Rakesh Reddy\\\\Desktop'"
      ]
     },
     "execution_count": 2,
     "metadata": {},
     "output_type": "execute_result"
    }
   ],
   "source": [
    "pwd"
   ]
  },
  {
   "cell_type": "code",
   "execution_count": 8,
   "metadata": {},
   "outputs": [
    {
     "ename": "FileNotFoundError",
     "evalue": "[Errno 2] No such file or directory: 'placements.txt'",
     "output_type": "error",
     "traceback": [
      "\u001b[1;31m---------------------------------------------------------------------------\u001b[0m",
      "\u001b[1;31mFileNotFoundError\u001b[0m                         Traceback (most recent call last)",
      "\u001b[1;32m<ipython-input-8-29149051d04c>\u001b[0m in \u001b[0;36m<module>\u001b[1;34m\u001b[0m\n\u001b[1;32m----> 1\u001b[1;33m \u001b[0mtext_file\u001b[0m \u001b[1;33m=\u001b[0m \u001b[0mopen\u001b[0m\u001b[1;33m(\u001b[0m\u001b[1;34m\"placements.txt\"\u001b[0m\u001b[1;33m,\u001b[0m \u001b[1;34m\"r\"\u001b[0m\u001b[1;33m)\u001b[0m\u001b[1;33m\u001b[0m\u001b[1;33m\u001b[0m\u001b[0m\n\u001b[0m\u001b[0;32m      2\u001b[0m \u001b[0mlines\u001b[0m \u001b[1;33m=\u001b[0m \u001b[0mtext_file\u001b[0m\u001b[1;33m.\u001b[0m\u001b[0mreadlines\u001b[0m\u001b[1;33m(\u001b[0m\u001b[1;33m)\u001b[0m\u001b[1;33m\u001b[0m\u001b[1;33m\u001b[0m\u001b[0m\n",
      "\u001b[1;31mFileNotFoundError\u001b[0m: [Errno 2] No such file or directory: 'placements.txt'"
     ]
    }
   ],
   "source": [
    "text_file = open(\"placements.txt\", \"r\")\n",
    "lines = text_file.readlines()"
   ]
  },
  {
   "cell_type": "code",
   "execution_count": 3,
   "metadata": {},
   "outputs": [
    {
     "data": {
      "text/plain": [
       "'C:\\\\Users\\\\Rakesh Reddy\\\\Desktop'"
      ]
     },
     "execution_count": 3,
     "metadata": {},
     "output_type": "execute_result"
    }
   ],
   "source": [
    "pwd\n"
   ]
  },
  {
   "cell_type": "code",
   "execution_count": 46,
   "metadata": {},
   "outputs": [
    {
     "name": "stdout",
     "output_type": "stream",
     "text": [
      "[{'student_id': 4420, 'placement_id': 1, 'placement__company_name': 'promizeit', 'placement__date_of_interview': datetime.date(2020, 2, 11), 'placement__job_description': 'test', 'placement__eligibility_criteria': 'test'}, {'student_id': 4420, 'placement_id': 2, 'placement__company_name': 'Test 2', 'placement__date_of_interview': datetime.date(2020, 2, 27), 'placement__job_description': 'Test2', 'placement__eligibility_criteria': 'Test2'}]\n"
     ]
    },
    {
     "data": {
      "text/plain": [
       "[{'student_id': 4420,\n",
       "  'placement_id': 1,\n",
       "  'placement__company_name': 'promizeit',\n",
       "  'placement__date_of_interview': datetime.date(2020, 2, 11),\n",
       "  'placement__job_description': 'test',\n",
       "  'placement__eligibility_criteria': 'test'},\n",
       " {'student_id': 4420,\n",
       "  'placement_id': 2,\n",
       "  'placement__company_name': 'Test 2',\n",
       "  'placement__date_of_interview': datetime.date(2020, 2, 27),\n",
       "  'placement__job_description': 'Test2',\n",
       "  'placement__eligibility_criteria': 'Test2'}]"
      ]
     },
     "execution_count": 46,
     "metadata": {},
     "output_type": "execute_result"
    }
   ],
   "source": [
    "import datetime\n",
    "f = open('Data1.txt','r')\n",
    "file_contents = f.read()\n",
    "print(file_contents)\n",
    "eval(file_contents)"
   ]
  },
  {
   "cell_type": "code",
   "execution_count": 39,
   "metadata": {},
   "outputs": [
    {
     "name": "stdout",
     "output_type": "stream",
     "text": [
      "[{'student_id': 4420, 'round__round_name': 'Written Test', 'status': 'N', 'placement_id': 1}, {'student_id': 4420, 'round__round_name': 'Written Test', 'status': 'Y', 'placement_id': 2}, {'student_id': 4420, 'round__round_name': 'GD', 'status': 'N', 'placement_id': 1}, {'student_id': 4420, 'round__round_name': 'GD', 'status': 'Y','placement_id': 2}, {'student_id': 4420, 'round__round_name': 'Technical', 'status': 'N', 'placement_id': 1}, {'student_id': 4420, 'round__round_name': 'Technical', 'status': 'Y', 'placement_id': 2}, {'student_id': 4420, 'round__round_name': 'HR', 'status': 'Y', 'placement_id': 2}]\n"
     ]
    },
    {
     "data": {
      "text/plain": [
       "[{'student_id': 4420,\n",
       "  'round__round_name': 'Written Test',\n",
       "  'status': 'N',\n",
       "  'placement_id': 1},\n",
       " {'student_id': 4420,\n",
       "  'round__round_name': 'Written Test',\n",
       "  'status': 'Y',\n",
       "  'placement_id': 2},\n",
       " {'student_id': 4420,\n",
       "  'round__round_name': 'GD',\n",
       "  'status': 'N',\n",
       "  'placement_id': 1},\n",
       " {'student_id': 4420,\n",
       "  'round__round_name': 'GD',\n",
       "  'status': 'Y',\n",
       "  'placement_id': 2},\n",
       " {'student_id': 4420,\n",
       "  'round__round_name': 'Technical',\n",
       "  'status': 'N',\n",
       "  'placement_id': 1},\n",
       " {'student_id': 4420,\n",
       "  'round__round_name': 'Technical',\n",
       "  'status': 'Y',\n",
       "  'placement_id': 2},\n",
       " {'student_id': 4420,\n",
       "  'round__round_name': 'HR',\n",
       "  'status': 'Y',\n",
       "  'placement_id': 2}]"
      ]
     },
     "execution_count": 39,
     "metadata": {},
     "output_type": "execute_result"
    }
   ],
   "source": [
    "g=open('Data2.txt','r')\n",
    "file_contents = g.read()\n",
    "print(file_contents)\n",
    "b=eval(file_contents)\n",
    "eval(file_contents)"
   ]
  },
  {
   "cell_type": "code",
   "execution_count": 8,
   "metadata": {},
   "outputs": [
    {
     "name": "stdout",
     "output_type": "stream",
     "text": [
      "[{'student_id': 4420, 'placement_id': 1, 'placement__company_name': 'promizeit', 'placement__date_of_interview': datetime.date(2020, 2, 11), 'placement__job_description': 'test', 'placement__eligibility_criteria': 'test'}, {'student_id': 4420, 'placement_id': 2, 'placement__company_name': 'Test 2', 'placement__date_of_interview': datetime.date(2020, 2, 27), 'placement__job_description': 'Test2', 'placement__eligibility_criteria': 'Test2'}]\n"
     ]
    }
   ],
   "source": [
    "from collections import defaultdict\n",
    "import datetime\n",
    "f = open('Data1.txt','r')\n",
    "file_contents = f.read()\n",
    "print(file_contents)\n",
    "a=eval(file_contents)\n",
    "g=open('Data2.txt','r')\n",
    "file_contents = g.read()\n",
    "\n",
    "# print(file_contents)\n",
    "b=eval(file_contents)\n",
    "d = defaultdict(dict)\n",
    "# for l in (a, b):\n",
    "#     for elem in l:\n",
    "#         d[elem['student_id']].update(elem)\n",
    "# l3 = d.values()"
   ]
  },
  {
   "cell_type": "code",
   "execution_count": 7,
   "metadata": {},
   "outputs": [],
   "source": [
    "from collections import defaultdict\n",
    "import datetime\n",
    "f = open('Data1.txt','r')\n",
    "file_contents = f.read()\n",
    "# print(file_contents)\n",
    "b=eval(file_contents)\n",
    "d = defaultdict(dict)"
   ]
  },
  {
   "cell_type": "code",
   "execution_count": 4,
   "metadata": {},
   "outputs": [
    {
     "ename": "NameError",
     "evalue": "name 'a' is not defined",
     "output_type": "error",
     "traceback": [
      "\u001b[1;31m---------------------------------------------------------------------------\u001b[0m",
      "\u001b[1;31mNameError\u001b[0m                                 Traceback (most recent call last)",
      "\u001b[1;32m<ipython-input-4-acd4b6615906>\u001b[0m in \u001b[0;36m<module>\u001b[1;34m\u001b[0m\n\u001b[0;32m      1\u001b[0m \u001b[0mf\u001b[0m\u001b[1;33m=\u001b[0m\u001b[1;33m{\u001b[0m\u001b[1;33m}\u001b[0m\u001b[1;33m\u001b[0m\u001b[1;33m\u001b[0m\u001b[0m\n\u001b[0;32m      2\u001b[0m \u001b[0mdic1\u001b[0m\u001b[1;33m=\u001b[0m\u001b[1;33m{\u001b[0m\u001b[1;33m}\u001b[0m\u001b[1;33m\u001b[0m\u001b[1;33m\u001b[0m\u001b[0m\n\u001b[1;32m----> 3\u001b[1;33m \u001b[0mdic1\u001b[0m \u001b[1;33m=\u001b[0m \u001b[0ma\u001b[0m\u001b[1;33m[\u001b[0m\u001b[1;36m0\u001b[0m\u001b[1;33m]\u001b[0m\u001b[1;33m\u001b[0m\u001b[1;33m\u001b[0m\u001b[0m\n\u001b[0m\u001b[0;32m      4\u001b[0m \u001b[1;32mfor\u001b[0m \u001b[0mi\u001b[0m \u001b[1;32min\u001b[0m \u001b[0mb\u001b[0m\u001b[1;33m:\u001b[0m\u001b[1;33m\u001b[0m\u001b[1;33m\u001b[0m\u001b[0m\n\u001b[0;32m      5\u001b[0m     \u001b[0mdic\u001b[0m\u001b[1;33m=\u001b[0m\u001b[1;33m{\u001b[0m\u001b[1;33m}\u001b[0m\u001b[1;33m\u001b[0m\u001b[1;33m\u001b[0m\u001b[0m\n",
      "\u001b[1;31mNameError\u001b[0m: name 'a' is not defined"
     ]
    }
   ],
   "source": [
    "f={}\n",
    "dic1={}\n",
    "dic1 = a[0]\n",
    "for i in b:\n",
    "    dic={}\n",
    "    if i['placement_id']==1:\n",
    "        dic['round_name']=i['round_round_name']\n",
    "        dic['status']=i['status']\n",
    "        f.append(dic)\n",
    "print(f)"
   ]
  },
  {
   "cell_type": "code",
   "execution_count": 3,
   "metadata": {},
   "outputs": [
    {
     "ename": "NameError",
     "evalue": "name 'b' is not defined",
     "output_type": "error",
     "traceback": [
      "\u001b[1;31m---------------------------------------------------------------------------\u001b[0m",
      "\u001b[1;31mNameError\u001b[0m                                 Traceback (most recent call last)",
      "\u001b[1;32m<ipython-input-3-526998afcac3>\u001b[0m in \u001b[0;36m<module>\u001b[1;34m\u001b[0m\n\u001b[0;32m      1\u001b[0m \u001b[1;32mfrom\u001b[0m \u001b[0mcollections\u001b[0m \u001b[1;32mimport\u001b[0m \u001b[0mChainMap\u001b[0m\u001b[1;33m\u001b[0m\u001b[1;33m\u001b[0m\u001b[0m\n\u001b[1;32m----> 2\u001b[1;33m \u001b[0mdict\u001b[0m\u001b[1;33m(\u001b[0m\u001b[0mChainMap\u001b[0m\u001b[1;33m(\u001b[0m\u001b[1;33m*\u001b[0m\u001b[0mb\u001b[0m\u001b[1;33m)\u001b[0m\u001b[1;33m)\u001b[0m\u001b[1;33m\u001b[0m\u001b[1;33m\u001b[0m\u001b[0m\n\u001b[0m",
      "\u001b[1;31mNameError\u001b[0m: name 'b' is not defined"
     ]
    }
   ],
   "source": [
    "from collections import ChainMap\n",
    "dict(ChainMap(*b))"
   ]
  },
  {
   "cell_type": "code",
   "execution_count": null,
   "metadata": {},
   "outputs": [],
   "source": []
  },
  {
   "cell_type": "code",
   "execution_count": 7,
   "metadata": {},
   "outputs": [],
   "source": [
    "def merge_lists(a, b, key):\n",
    "    merged = {}\n",
    "    for item in a+b:\n",
    "        if item[key] in merged:\n",
    "            merged[item[key]].update(item)\n",
    "        else:\n",
    "            merged[item[key]] = item\n",
    "        return [val for (_, val) in merged.items()]\n"
   ]
  },
  {
   "cell_type": "markdown",
   "metadata": {},
   "source": [
    "### oops in python\n",
    "- class : Collection of Data members and member Functions into single is called class.\n",
    "  - Data Members : variables,list,dict\n",
    "  - members Functions : Methods and constructors\n",
    "  - class is logical Entity it means when create a class it does not access the memory\n",
    "- object - instance - physical memory\n",
    "- inheritance"
   ]
  },
  {
   "cell_type": "code",
   "execution_count": null,
   "metadata": {},
   "outputs": [],
   "source": [
    "class demo:\n",
    "    "
   ]
  },
  {
   "cell_type": "code",
   "execution_count": null,
   "metadata": {},
   "outputs": [],
   "source": []
  }
 ],
 "metadata": {
  "kernelspec": {
   "display_name": "Python 3",
   "language": "python",
   "name": "python3"
  },
  "language_info": {
   "codemirror_mode": {
    "name": "ipython",
    "version": 3
   },
   "file_extension": ".py",
   "mimetype": "text/x-python",
   "name": "python",
   "nbconvert_exporter": "python",
   "pygments_lexer": "ipython3",
   "version": "3.7.1"
  }
 },
 "nbformat": 4,
 "nbformat_minor": 2
}
