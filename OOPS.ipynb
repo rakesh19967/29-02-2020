{
 "cells": [
  {
   "cell_type": "markdown",
   "metadata": {},
   "source": [
    "### oops in python\n",
    "- class : Collection of Data members and member Functions into single is called class.\n",
    "  - Data Members : variables,list,dict\n",
    "  - members Functions : Methods and constructors\n",
    "  - class is logical Entity it means when create a class it does not access the memory\n",
    "- object - instance - physical memory\n",
    "- inheritance\n",
    "### Self in Python : \n",
    "- self is used to represent the (instance) of the class with the keyword.\n",
    "- you can access the attributes and methods in python."
   ]
  },
  {
   "cell_type": "code",
   "execution_count": null,
   "metadata": {},
   "outputs": [],
   "source": []
  },
  {
   "cell_type": "code",
   "execution_count": 2,
   "metadata": {},
   "outputs": [
    {
     "name": "stdout",
     "output_type": "stream",
     "text": [
      "call() from Demo class\n"
     ]
    }
   ],
   "source": [
    "class Demo:\n",
    "    def call(self):\n",
    "        print(\"call() from Demo class\")\n",
    "        return\n",
    "a=Demo()\n",
    "a.call()"
   ]
  },
  {
   "cell_type": "code",
   "execution_count": 3,
   "metadata": {},
   "outputs": [
    {
     "data": {
      "text/plain": [
       "200"
      ]
     },
     "execution_count": 3,
     "metadata": {},
     "output_type": "execute_result"
    }
   ],
   "source": [
    "class Demo1:\n",
    "    def a1(self,a,b):\n",
    "        return a*b\n",
    "c1=Demo1()\n",
    "c1.a1(10,20)"
   ]
  },
  {
   "cell_type": "code",
   "execution_count": 6,
   "metadata": {},
   "outputs": [
    {
     "data": {
      "text/plain": [
       "30"
      ]
     },
     "execution_count": 6,
     "metadata": {},
     "output_type": "execute_result"
    }
   ],
   "source": [
    "#no need of mentioning self if it is not inside the class\n",
    "def a1(a,b):\n",
    "    return a+b\n",
    "a1(10,20)"
   ]
  },
  {
   "cell_type": "code",
   "execution_count": 5,
   "metadata": {},
   "outputs": [
    {
     "name": "stdout",
     "output_type": "stream",
     "text": [
      "10\n",
      "20\n",
      "10 20\n"
     ]
    }
   ],
   "source": [
    "# Create a class with two methods\n",
    "# 1.accept_numbers()\n",
    "# 2. Display_numbers()\n",
    "\n",
    "class Demo2:\n",
    "    def accept_numbers(self):\n",
    "        self.a=int(input())\n",
    "        self.b=int(input())\n",
    "    def Display_numbers(self):\n",
    "        print(self.a,self.b)\n",
    "c2=Demo2()\n",
    "c2.accept_numbers()\n",
    "c2.Display_numbers()\n"
   ]
  },
  {
   "cell_type": "markdown",
   "metadata": {},
   "source": [
    "### polymorsim :-\n",
    "- 1. Static or compile or early binding : \n",
    "- function overloading\n",
    "- same funtion name with different parameters and implementation will be in a single class and we can invoke any funtion with different input arguments.\n",
    "- 2. Dynamic or runtime or late binding :\n",
    "- function over riding\n",
    "- same funtion name with same parameters but the implementation will be in two different classes it means it can be implemented with base class and derived class(inheritance).\n",
    "\n",
    "### Python does not support polymorsim."
   ]
  },
  {
   "cell_type": "markdown",
   "metadata": {},
   "source": [
    "### Constructor in python\n",
    "- Constructor can be written as two underscores at start and two underscores at the end and Name can be written as init.\n",
    "- Constructor is spcl member in class with invokes(call) automatically when the class object is created.\n",
    "- Constructor as spcl type of method as well.\n",
    "- Methods are always invokes with the external statement with the help of class Object.\n"
   ]
  },
  {
   "cell_type": "code",
   "execution_count": 13,
   "metadata": {},
   "outputs": [
    {
     "name": "stdout",
     "output_type": "stream",
     "text": [
      "constructor\n",
      "Method\n"
     ]
    }
   ],
   "source": [
    "class Demo4:\n",
    "    def __init__(self):\n",
    "        print(\"constructor\")\n",
    "        return #constructor\n",
    "    def display_numbers(self):\n",
    "        print(\"Method\")\n",
    "        return #method\n",
    "aa1=Demo4()\n",
    "aa1.display_numbers()"
   ]
  },
  {
   "cell_type": "code",
   "execution_count": 3,
   "metadata": {},
   "outputs": [
    {
     "name": "stdout",
     "output_type": "stream",
     "text": [
      "10\n",
      "50\n",
      "10 50\n"
     ]
    }
   ],
   "source": [
    "#replacing method with parameters\n",
    "class Demo5:\n",
    "    def __init__(self):\n",
    "        self.a = int(input())\n",
    "        self.b = int(input())\n",
    "        return\n",
    "    def display_numbers(self):\n",
    "        print(self.a,self.b)\n",
    "        return\n",
    "c5=Demo5()\n",
    "c5.display_numbers()"
   ]
  },
  {
   "cell_type": "code",
   "execution_count": 9,
   "metadata": {},
   "outputs": [
    {
     "name": "stdout",
     "output_type": "stream",
     "text": [
      "10 20\n"
     ]
    }
   ],
   "source": [
    "class Demo6:\n",
    "    def __init__(self,a,b):\n",
    "        self.a = a\n",
    "        self.b = b\n",
    "        return\n",
    "    def display_numbers(self):\n",
    "        print(self.a,self.b)\n",
    "        return\n",
    "c6 = Demo6(10,20)\n",
    "c6.display_numbers()\n",
    "        "
   ]
  },
  {
   "cell_type": "markdown",
   "metadata": {},
   "source": [
    "### inheritance in Python\n",
    " - Creating a new class from existing class can be called as Inheritance.\n",
    " - Used to get the properties of one class to another class\n",
    " - By using the inheritance we can incerase the code reuseability.\n",
    " - By using the in heritance we can remove the duplication of code."
   ]
  },
  {
   "cell_type": "code",
   "execution_count": 15,
   "metadata": {},
   "outputs": [
    {
     "name": "stdout",
     "output_type": "stream",
     "text": [
      "updated email\n",
      "logins\n",
      "Register\n"
     ]
    }
   ],
   "source": [
    "class A:\n",
    "    def login(self):\n",
    "        print('logins')\n",
    "        return\n",
    "    def register(self):\n",
    "        print('Register')\n",
    "        return\n",
    "class B(A):\n",
    "    def updated_email(self):\n",
    "        print('updated email')\n",
    "        return\n",
    "obj=B()\n",
    "obj.updated_email()\n",
    "obj.login()\n",
    "obj.register()"
   ]
  },
  {
   "cell_type": "code",
   "execution_count": 21,
   "metadata": {},
   "outputs": [
    {
     "name": "stdout",
     "output_type": "stream",
     "text": [
      "class A1\n",
      "class A2\n"
     ]
    }
   ],
   "source": [
    "class A1:\n",
    "    def login(self):\n",
    "        print('class A1')\n",
    "        return\n",
    "class A2(A1):\n",
    "    def login(self):\n",
    "        print('class A2')\n",
    "        return\n",
    "obj = A1()\n",
    "obj.login()\n",
    "obj1 = A2()\n",
    "obj1.login()"
   ]
  },
  {
   "cell_type": "markdown",
   "metadata": {},
   "source": [
    "### Task"
   ]
  },
  {
   "cell_type": "code",
   "execution_count": 22,
   "metadata": {},
   "outputs": [
    {
     "ename": "NameError",
     "evalue": "name 'SMS_store' is not defined",
     "output_type": "error",
     "traceback": [
      "\u001b[1;31m---------------------------------------------------------------------------\u001b[0m",
      "\u001b[1;31mNameError\u001b[0m                                 Traceback (most recent call last)",
      "\u001b[1;32m<ipython-input-22-27b11e71acf2>\u001b[0m in \u001b[0;36m<module>\u001b[1;34m\u001b[0m\n\u001b[1;32m----> 1\u001b[1;33m \u001b[0mmy_inbox\u001b[0m \u001b[1;33m=\u001b[0m \u001b[0mSMS_store\u001b[0m\u001b[1;33m(\u001b[0m\u001b[1;33m)\u001b[0m\u001b[1;33m\u001b[0m\u001b[1;33m\u001b[0m\u001b[0m\n\u001b[0m\u001b[0;32m      2\u001b[0m \u001b[0mmy_inbox\u001b[0m\u001b[1;33m.\u001b[0m\u001b[0madd_new_arrival\u001b[0m\u001b[1;33m(\u001b[0m\u001b[0mfrom_number\u001b[0m\u001b[1;33m,\u001b[0m \u001b[0mtime_arrived\u001b[0m\u001b[1;33m,\u001b[0m \u001b[0mtext_of_SMS\u001b[0m\u001b[1;33m)\u001b[0m\u001b[1;33m\u001b[0m\u001b[1;33m\u001b[0m\u001b[0m\n\u001b[0;32m      3\u001b[0m \u001b[0mmy_inbox\u001b[0m\u001b[1;33m.\u001b[0m\u001b[0mmessage_count\u001b[0m\u001b[1;33m(\u001b[0m\u001b[1;33m)\u001b[0m\u001b[1;33m\u001b[0m\u001b[1;33m\u001b[0m\u001b[0m\n\u001b[0;32m      4\u001b[0m \u001b[0mmy_inbox\u001b[0m\u001b[1;33m.\u001b[0m\u001b[0mget_unread_indexes\u001b[0m\u001b[1;33m(\u001b[0m\u001b[1;33m)\u001b[0m\u001b[1;33m\u001b[0m\u001b[1;33m\u001b[0m\u001b[0m\n\u001b[0;32m      5\u001b[0m \u001b[0mmy_inbox\u001b[0m\u001b[1;33m.\u001b[0m\u001b[0mget_message\u001b[0m\u001b[1;33m(\u001b[0m\u001b[0mi\u001b[0m\u001b[1;33m)\u001b[0m\u001b[1;33m\u001b[0m\u001b[1;33m\u001b[0m\u001b[0m\n",
      "\u001b[1;31mNameError\u001b[0m: name 'SMS_store' is not defined"
     ]
    }
   ],
   "source": [
    "class SMS_store():\n",
    "my_inbox = SMS_store()\n",
    "my_inbox.add_new_arrival(from_number, time_arrived, text_of_SMS)\n",
    "my_inbox.message_count()\n",
    "my_inbox.get_unread_indexes()\n",
    "my_inbox.get_message(i)\n",
    "my_inbox.delete(i)     \n",
    "my_inbox.clear()       "
   ]
  },
  {
   "cell_type": "code",
   "execution_count": 23,
   "metadata": {},
   "outputs": [
    {
     "ename": "SyntaxError",
     "evalue": "invalid syntax (<ipython-input-23-7762424ae5ad>, line 1)",
     "output_type": "error",
     "traceback": [
      "\u001b[1;36m  File \u001b[1;32m\"<ipython-input-23-7762424ae5ad>\"\u001b[1;36m, line \u001b[1;32m1\u001b[0m\n\u001b[1;33m    Create a new class, SMS_store. The class will instantiate SMS_store objects, similar to an inbox or outbox on a cellphone:\u001b[0m\n\u001b[1;37m           ^\u001b[0m\n\u001b[1;31mSyntaxError\u001b[0m\u001b[1;31m:\u001b[0m invalid syntax\n"
     ]
    }
   ],
   "source": [
    "Create a new class, SMS_store. \n",
    "The class will instantiate SMS_store objects, similar to an inbox or outbox on a cellphone:\n",
    "\n",
    "my_inbox = SMS_store()\n",
    "This store can hold multiple SMS messages (i.e. its internal state will\n",
    "just be a list of messages). Each message will be represented as a tuple:\n",
    "\n",
    "(has_been_viewed, from_number, time_arrived, text_of_SMS)\n",
    "The inbox object should provide these methods:\n",
    "\n",
    "my_inbox.add_new_arrival(from_number, time_arrived, text_of_SMS)\n",
    "  # Makes new SMS tuple, inserts it after other messages\n",
    "  # in the store. When creating this message, its\n",
    "  # has_been_viewed status is set False.\n",
    " \n",
    "my_inbox.message_count()\n",
    "  # Returns the number of sms messages in my_inbox\n",
    " \n",
    "my_inbox.get_unread_indexes()\n",
    "  # Returns list of indexes of all not-yet-viewed SMS messages\n",
    " \n",
    "my_inbox.get_message(i)\n",
    "  # Return (from_number, time_arrived, text_of_sms) for message[i]\n",
    "  # Also change its state to \"has been viewed\".\n",
    "  # If there is no message at position i, return None\n",
    " \n",
    "my_inbox.delete(i)     # Delete the message at index i\n",
    "my_inbox.clear()       # Delete all messages from inbox\n"
   ]
  },
  {
   "cell_type": "code",
   "execution_count": 24,
   "metadata": {},
   "outputs": [
    {
     "ename": "KeyError",
     "evalue": "'OUTPUT_PATH'",
     "output_type": "error",
     "traceback": [
      "\u001b[1;31m---------------------------------------------------------------------------\u001b[0m",
      "\u001b[1;31mKeyError\u001b[0m                                  Traceback (most recent call last)",
      "\u001b[1;32m<ipython-input-24-db3cdc310fc5>\u001b[0m in \u001b[0;36m<module>\u001b[1;34m\u001b[0m\n\u001b[0;32m     32\u001b[0m \u001b[1;33m\u001b[0m\u001b[0m\n\u001b[0;32m     33\u001b[0m \u001b[1;32mif\u001b[0m \u001b[0m__name__\u001b[0m \u001b[1;33m==\u001b[0m \u001b[1;34m'__main__'\u001b[0m\u001b[1;33m:\u001b[0m\u001b[1;33m\u001b[0m\u001b[1;33m\u001b[0m\u001b[0m\n\u001b[1;32m---> 34\u001b[1;33m     \u001b[0mfptr\u001b[0m \u001b[1;33m=\u001b[0m \u001b[0mopen\u001b[0m\u001b[1;33m(\u001b[0m\u001b[0mos\u001b[0m\u001b[1;33m.\u001b[0m\u001b[0menviron\u001b[0m\u001b[1;33m[\u001b[0m\u001b[1;34m'OUTPUT_PATH'\u001b[0m\u001b[1;33m]\u001b[0m\u001b[1;33m,\u001b[0m \u001b[1;34m'w'\u001b[0m\u001b[1;33m)\u001b[0m\u001b[1;33m\u001b[0m\u001b[1;33m\u001b[0m\u001b[0m\n\u001b[0m\u001b[0;32m     35\u001b[0m \u001b[1;33m\u001b[0m\u001b[0m\n\u001b[0;32m     36\u001b[0m     \u001b[0mt\u001b[0m \u001b[1;33m=\u001b[0m \u001b[0mint\u001b[0m\u001b[1;33m(\u001b[0m\u001b[0minput\u001b[0m\u001b[1;33m(\u001b[0m\u001b[1;33m)\u001b[0m\u001b[1;33m)\u001b[0m\u001b[1;33m\u001b[0m\u001b[1;33m\u001b[0m\u001b[0m\n",
      "\u001b[1;32m~\\Anaconda3\\lib\\os.py\u001b[0m in \u001b[0;36m__getitem__\u001b[1;34m(self, key)\u001b[0m\n\u001b[0;32m    676\u001b[0m         \u001b[1;32mexcept\u001b[0m \u001b[0mKeyError\u001b[0m\u001b[1;33m:\u001b[0m\u001b[1;33m\u001b[0m\u001b[1;33m\u001b[0m\u001b[0m\n\u001b[0;32m    677\u001b[0m             \u001b[1;31m# raise KeyError with the original key value\u001b[0m\u001b[1;33m\u001b[0m\u001b[1;33m\u001b[0m\u001b[1;33m\u001b[0m\u001b[0m\n\u001b[1;32m--> 678\u001b[1;33m             \u001b[1;32mraise\u001b[0m \u001b[0mKeyError\u001b[0m\u001b[1;33m(\u001b[0m\u001b[0mkey\u001b[0m\u001b[1;33m)\u001b[0m \u001b[1;32mfrom\u001b[0m \u001b[1;32mNone\u001b[0m\u001b[1;33m\u001b[0m\u001b[1;33m\u001b[0m\u001b[0m\n\u001b[0m\u001b[0;32m    679\u001b[0m         \u001b[1;32mreturn\u001b[0m \u001b[0mself\u001b[0m\u001b[1;33m.\u001b[0m\u001b[0mdecodevalue\u001b[0m\u001b[1;33m(\u001b[0m\u001b[0mvalue\u001b[0m\u001b[1;33m)\u001b[0m\u001b[1;33m\u001b[0m\u001b[1;33m\u001b[0m\u001b[0m\n\u001b[0;32m    680\u001b[0m \u001b[1;33m\u001b[0m\u001b[0m\n",
      "\u001b[1;31mKeyError\u001b[0m: 'OUTPUT_PATH'"
     ]
    }
   ],
   "source": [
    "import os\n",
    "import sys\n",
    "def prime(num):\n",
    "    if num > 5:\n",
    "        for i in range(2, num//2):\n",
    "            if (num % i) == 0:\n",
    "                return 0 \n",
    "                break \n",
    "    if num==1 or num==4:\n",
    "        return 0 \n",
    "    elif num==2 or num==3 or num==5:\n",
    "        return 1 \n",
    "    else:\n",
    "        return 1\n",
    "def lucky(i):\n",
    "    sume=0 \n",
    "    sqr=0 \n",
    "    while(i>0):\n",
    "        x=i%10\n",
    "        i=i//10\n",
    "        sume=x+sume \n",
    "        sqr=(x*x)+sqr \n",
    "    return sume,sqr \n",
    "def luckyNumbers(a, b):\n",
    "    count=0 \n",
    "    for i in range(a,b+1):\n",
    "        m,n=lucky(i) \n",
    "        out1,out2=prime(m),prime(n)\n",
    "        if out1==1 and out2==1:\n",
    "            count+=1 \n",
    "    return count\n",
    "\n",
    "if __name__ == '__main__':\n",
    "    fptr = open(os.environ['OUTPUT_PATH'], 'w')\n",
    "\n",
    "    t = int(input())\n",
    "\n",
    "    for t_itr in range(t):\n",
    "        ab = input().split()\n",
    "\n",
    "        a = int(ab[0])\n",
    "\n",
    "        b = int(ab[1])\n",
    "\n",
    "        result = luckyNumbers(a, b)`\n",
    "\n",
    "        fptr.write(str(result) + '\\n')\n",
    "\n",
    "    fptr.close()\n"
   ]
  },
  {
   "cell_type": "code",
   "execution_count": 25,
   "metadata": {},
   "outputs": [],
   "source": [
    "def prime(num):\n",
    "    if num > 5:\n",
    "        for i in range(2, num//2):\n",
    "            if (num % i) == 0:\n",
    "                return 0 \n",
    "                break \n",
    "    elif num==1 or num==4:\n",
    "        return 0 \n",
    "    elif num==2 or num==3 or num==5:\n",
    "        return 1 \n",
    "    else:\n",
    "        return 1"
   ]
  },
  {
   "cell_type": "code",
   "execution_count": 30,
   "metadata": {},
   "outputs": [],
   "source": [
    "s=0\n",
    "for i in range(1,101):\n",
    "    s=s+prime(i)"
   ]
  },
  {
   "cell_type": "code",
   "execution_count": 31,
   "metadata": {},
   "outputs": [
    {
     "data": {
      "text/plain": [
       "25"
      ]
     },
     "execution_count": 31,
     "metadata": {},
     "output_type": "execute_result"
    }
   ],
   "source": [
    "s"
   ]
  },
  {
   "cell_type": "code",
   "execution_count": 15,
   "metadata": {},
   "outputs": [],
   "source": [
    "def prime(num):\n",
    "    for i in range(2, num//2):\n",
    "        if (num % i) == 0:\n",
    "            return 0\n",
    "prime(1)"
   ]
  },
  {
   "cell_type": "code",
   "execution_count": 8,
   "metadata": {},
   "outputs": [
    {
     "data": {
      "text/plain": [
       "1"
      ]
     },
     "execution_count": 8,
     "metadata": {},
     "output_type": "execute_result"
    }
   ],
   "source": [
    "def prime(num):\n",
    "    if num > 5:\n",
    "        for i in range(2, num//2):\n",
    "            if (num % i) == 0:\n",
    "                return 0 \n",
    "                break \n",
    "    if num==1 or num==4:\n",
    "        return 0 \n",
    "    elif num==2 or num==3 or num==5:\n",
    "        return 1 \n",
    "    else:\n",
    "        return 1\n",
    "prime(7)"
   ]
  },
  {
   "cell_type": "code",
   "execution_count": null,
   "metadata": {},
   "outputs": [],
   "source": []
  }
 ],
 "metadata": {
  "kernelspec": {
   "display_name": "Python 3",
   "language": "python",
   "name": "python3"
  },
  "language_info": {
   "codemirror_mode": {
    "name": "ipython",
    "version": 3
   },
   "file_extension": ".py",
   "mimetype": "text/x-python",
   "name": "python",
   "nbconvert_exporter": "python",
   "pygments_lexer": "ipython3",
   "version": "3.7.1"
  }
 },
 "nbformat": 4,
 "nbformat_minor": 2
}
