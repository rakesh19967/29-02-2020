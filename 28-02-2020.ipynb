{
 "cells": [
  {
   "cell_type": "markdown",
   "metadata": {},
   "source": [
    "### Strings and string related Problems in Python\n",
    "- string : Sequence of characters\n",
    "- python : Charater and string\n",
    "- ord(char) : represents the output of ASCII Number\n",
    "- char(ASCII number) : represents the output in Character\n",
    "- ASCII number\n",
    "  - A-Z : 65-90\n",
    "  - a-z : 97-122\n",
    "  - 0-9 : 48-57\n",
    "  - space : 32"
   ]
  },
  {
   "cell_type": "code",
   "execution_count": 3,
   "metadata": {},
   "outputs": [
    {
     "name": "stdout",
     "output_type": "stream",
     "text": [
      "rakesh\n"
     ]
    },
    {
     "ename": "TypeError",
     "evalue": "'str' object cannot be interpreted as an integer",
     "output_type": "error",
     "traceback": [
      "\u001b[1;31m---------------------------------------------------------------------------\u001b[0m",
      "\u001b[1;31mTypeError\u001b[0m                                 Traceback (most recent call last)",
      "\u001b[1;32m<ipython-input-3-fa791568c793>\u001b[0m in \u001b[0;36m<module>\u001b[1;34m\u001b[0m\n\u001b[0;32m      3\u001b[0m \u001b[0muCnt\u001b[0m \u001b[1;33m=\u001b[0m \u001b[1;36m0\u001b[0m\u001b[1;33m\u001b[0m\u001b[1;33m\u001b[0m\u001b[0m\n\u001b[0;32m      4\u001b[0m \u001b[0mlCnt\u001b[0m \u001b[1;33m=\u001b[0m \u001b[1;36m0\u001b[0m\u001b[1;33m\u001b[0m\u001b[1;33m\u001b[0m\u001b[0m\n\u001b[1;32m----> 5\u001b[1;33m \u001b[1;32mfor\u001b[0m \u001b[0mi\u001b[0m \u001b[1;32min\u001b[0m \u001b[0mrange\u001b[0m\u001b[1;33m(\u001b[0m\u001b[0ms1\u001b[0m\u001b[1;33m)\u001b[0m\u001b[1;33m:\u001b[0m\u001b[1;33m\u001b[0m\u001b[1;33m\u001b[0m\u001b[0m\n\u001b[0m\u001b[0;32m      6\u001b[0m     \u001b[1;32mif\u001b[0m \u001b[0mord\u001b[0m\u001b[1;33m(\u001b[0m\u001b[0ms1\u001b[0m\u001b[1;33m[\u001b[0m\u001b[0mi\u001b[0m\u001b[1;33m]\u001b[0m\u001b[1;33m)\u001b[0m \u001b[1;33m>=\u001b[0m \u001b[1;36m65\u001b[0m \u001b[1;32mand\u001b[0m \u001b[0mord\u001b[0m\u001b[1;33m(\u001b[0m\u001b[0ms1\u001b[0m\u001b[1;33m[\u001b[0m\u001b[0mi\u001b[0m\u001b[1;33m]\u001b[0m\u001b[1;33m)\u001b[0m \u001b[1;33m<=\u001b[0m\u001b[1;36m90\u001b[0m\u001b[1;33m:\u001b[0m\u001b[1;33m\u001b[0m\u001b[1;33m\u001b[0m\u001b[0m\n\u001b[0;32m      7\u001b[0m         \u001b[0muCnt\u001b[0m \u001b[1;33m+=\u001b[0m \u001b[1;36m1\u001b[0m\u001b[1;33m\u001b[0m\u001b[1;33m\u001b[0m\u001b[0m\n",
      "\u001b[1;31mTypeError\u001b[0m: 'str' object cannot be interpreted as an integer"
     ]
    }
   ],
   "source": [
    "s1 = input()\n",
    "li = []\n",
    "uCnt = 0\n",
    "lCnt = 0\n",
    "for i in range(len(s1)):\n",
    "    if ord(s1[i]) >= 65 and ord(s1[i]) <=90:\n",
    "        uCnt += 1\n",
    "    elif ord(s1[i] >= 97 and ord(s1[i]) <= 122):\n",
    "        lCnt += 1\n",
    "print('Uppercase:[] LowerCase:[]'.format(uCnt,lCnt))"
   ]
  },
  {
   "cell_type": "code",
   "execution_count": 6,
   "metadata": {},
   "outputs": [
    {
     "name": "stdout",
     "output_type": "stream",
     "text": [
      "rASkkk\n",
      "Uppercase:2 LowerCase:4\n"
     ]
    }
   ],
   "source": [
    "li=[]\n",
    "s1 = input()\n",
    "uCnt = 0\n",
    "lCnt = 0\n",
    "for i in range(len(s1)):\n",
    "    if s1[i].isupper():\n",
    "        uCnt += 1\n",
    "    elif s1[i].islower():\n",
    "        lCnt += 1\n",
    "print('Uppercase:{} LowerCase:{}'.format(uCnt,lCnt))"
   ]
  },
  {
   "cell_type": "code",
   "execution_count": 16,
   "metadata": {},
   "outputs": [
    {
     "name": "stdout",
     "output_type": "stream",
     "text": [
      "dae6vd6b8\n",
      "20\n"
     ]
    }
   ],
   "source": [
    "# App1ca8ti8on9\n",
    "# 16\n",
    "s1 = input()\n",
    "final_sum=0\n",
    "for i in range(len(s1)):\n",
    "    if s1[i].isdigit():\n",
    "        k = ord(s1[i])-48\n",
    "        if k%2==0:\n",
    "            final_sum += k\n",
    "print(final_sum)\n",
    "            "
   ]
  },
  {
   "cell_type": "code",
   "execution_count": 1,
   "metadata": {},
   "outputs": [
    {
     "data": {
      "text/plain": [
       "26"
      ]
     },
     "execution_count": 1,
     "metadata": {},
     "output_type": "execute_result"
    }
   ],
   "source": [
    "def sumOfDigits(s):\n",
    "    sum = 0\n",
    "    for i in range(len(s)):\n",
    "        if ord(s[i]) >= 48 and ord(s[i]) <= 57 :\n",
    "            sum = sum + (ord(s[i])-48)\n",
    "    return sum\n",
    "sumOfDigits('Appli18cation89')"
   ]
  },
  {
   "cell_type": "code",
   "execution_count": 6,
   "metadata": {},
   "outputs": [
    {
     "name": "stdout",
     "output_type": "stream",
     "text": [
      "[123, 21, 45, 87, 342]\n",
      "onedigit:465 twodigit:0 threedigit:153\n"
     ]
    }
   ],
   "source": [
    "# Mobile123b=needs21works45Land87user342\n",
    "# 153 465\n",
    "# s=int()\n",
    "# for i in range\n",
    "import re\n",
    "str1 = \"Mobile123b=needs21works45Land87user342\"\n",
    "for i in range(len(str1)):\n",
    "    a = re.findall('\\d+', str1 )\n",
    "    b = list(map(int,a))\n",
    "print(b)\n",
    "onedigit=0\n",
    "twodigit=0\n",
    "threedigit=0\n",
    "for i in b:\n",
    "    if i>99:\n",
    "        threedigit+=i\n",
    "    elif i<9:\n",
    "        twodigit+=i\n",
    "    else:\n",
    "        onedigit+=i\n",
    "print('onedigit:{} twodigit:{} threedigit:{}'.format(threedigit,twodigit,onedigit))"
   ]
  },
  {
   "cell_type": "code",
   "execution_count": 54,
   "metadata": {},
   "outputs": [
    {
     "ename": "NameError",
     "evalue": "name 'check' is not defined",
     "output_type": "error",
     "traceback": [
      "\u001b[1;31m---------------------------------------------------------------------------\u001b[0m",
      "\u001b[1;31mNameError\u001b[0m                                 Traceback (most recent call last)",
      "\u001b[1;32m<ipython-input-54-65165bb63ee6>\u001b[0m in \u001b[0;36m<module>\u001b[1;34m\u001b[0m\n\u001b[0;32m     10\u001b[0m         \u001b[1;32melse\u001b[0m\u001b[1;33m:\u001b[0m\u001b[1;33m\u001b[0m\u001b[1;33m\u001b[0m\u001b[0m\n\u001b[0;32m     11\u001b[0m             \u001b[1;32mbreak\u001b[0m\u001b[1;33m\u001b[0m\u001b[1;33m\u001b[0m\u001b[0m\n\u001b[1;32m---> 12\u001b[1;33m     \u001b[1;32mif\u001b[0m \u001b[0mcheck\u001b[0m\u001b[1;33m(\u001b[0m\u001b[0mnum\u001b[0m\u001b[1;33m)\u001b[0m \u001b[1;33m==\u001b[0m \u001b[1;36m2\u001b[0m\u001b[1;33m:\u001b[0m\u001b[1;33m\u001b[0m\u001b[1;33m\u001b[0m\u001b[0m\n\u001b[0m\u001b[0;32m     13\u001b[0m         \u001b[0mfinal_sum\u001b[0m \u001b[1;33m+=\u001b[0m \u001b[0mnum\u001b[0m\u001b[1;33m\u001b[0m\u001b[1;33m\u001b[0m\u001b[0m\n\u001b[0;32m     14\u001b[0m     \u001b[1;32melif\u001b[0m \u001b[0mcheck\u001b[0m\u001b[1;33m(\u001b[0m\u001b[0mnum\u001b[0m\u001b[1;33m)\u001b[0m \u001b[1;33m==\u001b[0m \u001b[1;36m3\u001b[0m\u001b[1;33m:\u001b[0m\u001b[1;33m\u001b[0m\u001b[1;33m\u001b[0m\u001b[0m\n",
      "\u001b[1;31mNameError\u001b[0m: name 'check' is not defined"
     ]
    }
   ],
   "source": [
    "final_sum=0\n",
    "final_x = 0\n",
    "for i in range(len(s1)):\n",
    "    num=0\n",
    "    while True:\n",
    "        if s1[i].isdigit():\n",
    "            k=ord(s1[i])-48\n",
    "            num =(num*10)+k\n",
    "            i+=1\n",
    "        else:\n",
    "            break\n",
    "    if check(num) == 2:\n",
    "        final_sum += num\n",
    "    elif check(num) == 3:\n",
    "        final_x += num\n",
    "print('{0}{1}'.format(final_sum,final_x))\n"
   ]
  },
  {
   "cell_type": "code",
   "execution_count": 7,
   "metadata": {},
   "outputs": [
    {
     "name": "stdout",
     "output_type": "stream",
     "text": [
      "465,153\n"
     ]
    }
   ],
   "source": [
    "def str(string):\n",
    "    pc = string[0]\n",
    "    groups = []\n",
    "    c=0\n",
    "    c1=0\n",
    "    newword = string[0]\n",
    "    for x, i in enumerate(string[1:]):\n",
    "        if i.isalpha() and pc.isalpha():\n",
    "            newword += i\n",
    "        elif i.isnumeric() and pc.isnumeric():\n",
    "            newword += i\n",
    "        else:\n",
    "            groups.append(newword)\n",
    "            newword = i\n",
    "\n",
    "        pc = i\n",
    "        if x == len(string) - 2:\n",
    "            groups.append(newword)\n",
    "            newword = ''\n",
    "    a=groups[1::2]\n",
    "    #print(a)\n",
    "    for i in a:\n",
    "        if len(i)==3:\n",
    "             c=c+int(i)\n",
    "        else:\n",
    "             c1=c1+int(i)\n",
    "    print('{},{}'.format(c,c1))  \n",
    "(str('mobile123Needs21works45land87user342'))"
   ]
  },
  {
   "cell_type": "code",
   "execution_count": 12,
   "metadata": {},
   "outputs": [
    {
     "name": "stdout",
     "output_type": "stream",
     "text": [
      "abcd abc\n",
      "ABCD ABC\n",
      "!@@!!!@@@@\n",
      "!@@!!!"
     ]
    }
   ],
   "source": [
    "# password validation using encryption\n",
    "# not spcl chars and digits\n",
    "# input:\n",
    "# ABCD AABCDE AABC\n",
    "# output:\n",
    "# !@@!!!@@@@\n",
    "# !@!!@@@!!!!@@@@@\n",
    "# !@!!@@@\n",
    "s=input()\n",
    "s=s.upper()\n",
    "print(s)\n",
    "ch='!'\n",
    "for i in range(len(s)):\n",
    "    if ord(s[i])!=32:\n",
    "        k=ord(s[i])-64\n",
    "        for j in range(k):\n",
    "            print(ch,end=\"\")\n",
    "        if ch == '!':\n",
    "            ch = '@'\n",
    "        else:\n",
    "            ch ='!'\n",
    "    else:\n",
    "        print('')"
   ]
  },
  {
   "cell_type": "code",
   "execution_count": 18,
   "metadata": {},
   "outputs": [
    {
     "name": "stdout",
     "output_type": "stream",
     "text": [
      "6k1a\n",
      "kkkkkka"
     ]
    }
   ],
   "source": [
    "# input : 1A2B3C4D\n",
    "# output : ABBCCCDDDD\n",
    "s=input()\n",
    "for i in range(0,len(s),2):\n",
    "    print(s[i+1]*int(s[i]),end='')"
   ]
  },
  {
   "cell_type": "code",
   "execution_count": null,
   "metadata": {},
   "outputs": [],
   "source": [
    "s=input()\n",
    "for i in range(s[i])"
   ]
  },
  {
   "cell_type": "code",
   "execution_count": null,
   "metadata": {},
   "outputs": [],
   "source": []
  }
 ],
 "metadata": {
  "kernelspec": {
   "display_name": "Python 3",
   "language": "python",
   "name": "python3"
  },
  "language_info": {
   "codemirror_mode": {
    "name": "ipython",
    "version": 3
   },
   "file_extension": ".py",
   "mimetype": "text/x-python",
   "name": "python",
   "nbconvert_exporter": "python",
   "pygments_lexer": "ipython3",
   "version": "3.7.1"
  }
 },
 "nbformat": 4,
 "nbformat_minor": 2
}
